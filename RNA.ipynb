{
 "cells": [
  {
   "cell_type": "code",
   "execution_count": 2,
   "metadata": {},
   "outputs": [
    {
     "name": "stderr",
     "output_type": "stream",
     "text": [
      "C:\\Users\\laury\\AppData\\Local\\Packages\\PythonSoftwareFoundation.Python.3.9_qbz5n2kfra8p0\\LocalCache\\local-packages\\Python39\\site-packages\\statsmodels\\compat\\pandas.py:65: FutureWarning: pandas.Int64Index is deprecated and will be removed from pandas in a future version. Use pandas.Index with the appropriate dtype instead.\n",
      "  from pandas import Int64Index as NumericIndex\n"
     ]
    }
   ],
   "source": [
    "import pandas as pd\n",
    "import seaborn as sns\n",
    "import numpy as np\n",
    "from scipy import stats\n",
    "import statsmodels.stats.diagnostic as diag\n",
    "from sklearn.metrics import confusion_matrix\n",
    "from sklearn.model_selection import train_test_split\n",
    "from sklearn import metrics\n",
    "from sklearn.svm import SVC\n",
    "from sklearn.svm import SVR\n",
    "from sklearn.preprocessing import StandardScaler\n",
    "from sklearn.neural_network import MLPClassifier\n",
    "from sklearn.metrics import accuracy_score ,precision_score,recall_score,f1_score\n",
    "## import pyclustertend \n",
    "import matplotlib.cm as cm\n",
    "np.warnings.filterwarnings('ignore', category=np.VisibleDeprecationWarning) \n",
    "from sklearn.compose import make_column_selector as selector #para separar columnas numéricas de categoricas"
   ]
  },
  {
   "cell_type": "markdown",
   "metadata": {},
   "source": [
    "Análisis de los datos"
   ]
  },
  {
   "cell_type": "code",
   "execution_count": 3,
   "metadata": {},
   "outputs": [],
   "source": [
    "data = pd.read_csv('./train.csv', encoding = \"latin1\")\n",
    "file = open('cuantitativas.txt', 'r')\n",
    "quant= file.read().splitlines()\n",
    "file = open('cualitativas.txt', 'r')\n",
    "quali= file.read().splitlines()"
   ]
  },
  {
   "cell_type": "code",
   "execution_count": 4,
   "metadata": {},
   "outputs": [
    {
     "name": "stdout",
     "output_type": "stream",
     "text": [
      "\u001b[36mKurtosis: 6.536282\n",
      "\u001b[36mAsimetría: 1.882876\n"
     ]
    },
    {
     "data": {
      "text/plain": [
       "count      1460.000000\n",
       "mean     180921.195890\n",
       "std       79442.502883\n",
       "min       34900.000000\n",
       "25%      129975.000000\n",
       "50%      163000.000000\n",
       "75%      214000.000000\n",
       "max      755000.000000\n",
       "Name: SalePrice, dtype: float64"
      ]
     },
     "execution_count": 4,
     "metadata": {},
     "output_type": "execute_result"
    }
   ],
   "source": [
    "# Variables de interes\n",
    "print('\\033[36m' + 'Kurtosis: %f' % data['SalePrice'].kurt())\n",
    "print('\\033[36m' + 'Asimetría: %f' % data['SalePrice'].skew())\n",
    "data['SalePrice'].describe()"
   ]
  },
  {
   "cell_type": "code",
   "execution_count": 5,
   "metadata": {},
   "outputs": [
    {
     "name": "stdout",
     "output_type": "stream",
     "text": [
      "Prueba de Kolmogorov-Smirnov:\n",
      "p=0.000000\n",
      "\n",
      "Prueba de Lilliefors:\n",
      "ks=0.123685\n",
      "p=0.001000\n"
     ]
    }
   ],
   "source": [
    "stat,p = stats.shapiro(data[[\"SalePrice\"]].dropna())\n",
    "print('Prueba de Kolmogorov-Smirnov:\\np=%f\\n'% p)\n",
    "ks_statistic, p_value = diag.lilliefors(data[[\"SalePrice\"]].dropna())\n",
    "print('Prueba de Lilliefors:\\nks=%f\\np=%f'%(ks_statistic,p_value))"
   ]
  },
  {
   "cell_type": "code",
   "execution_count": 6,
   "metadata": {},
   "outputs": [
    {
     "data": {
      "text/plain": [
       "<seaborn.axisgrid.FacetGrid at 0x14be21eb700>"
      ]
     },
     "execution_count": 6,
     "metadata": {},
     "output_type": "execute_result"
    },
    {
     "data": {
      "image/png": "[encoded data removed]",
      "text/plain": [
       "<Figure size 360x360 with 1 Axes>"
      ]
     },
     "metadata": {
      "needs_background": "light"
     },
     "output_type": "display_data"
    }
   ],
   "source": [
    "sns.displot(data['SalePrice'], kde=True)"
   ]
  },
  {
   "cell_type": "code",
   "execution_count": 7,
   "metadata": {},
   "outputs": [
    {
     "name": "stderr",
     "output_type": "stream",
     "text": [
      "C:\\Users\\laury\\AppData\\Local\\Temp\\ipykernel_20668\\618828850.py:7: SettingWithCopyWarning: \n",
      "A value is trying to be set on a copy of a slice from a DataFrame\n",
      "\n",
      "See the caveats in the documentation: https://pandas.pydata.org/pandas-docs/stable/user_guide/indexing.html#returning-a-view-versus-a-copy\n",
      "  data['priceRange'][data['SalePrice'] < minPrice + divs] = 0.0 #Economico\n",
      "C:\\Users\\laury\\AppData\\Local\\Temp\\ipykernel_20668\\618828850.py:8: SettingWithCopyWarning: \n",
      "A value is trying to be set on a copy of a slice from a DataFrame\n",
      "\n",
      "See the caveats in the documentation: https://pandas.pydata.org/pandas-docs/stable/user_guide/indexing.html#returning-a-view-versus-a-copy\n",
      "  data['priceRange'][data['SalePrice'] >= minPrice + divs] = 1.0 #Precio medio\n",
      "C:\\Users\\laury\\AppData\\Local\\Temp\\ipykernel_20668\\618828850.py:9: SettingWithCopyWarning: \n",
      "A value is trying to be set on a copy of a slice from a DataFrame\n",
      "\n",
      "See the caveats in the documentation: https://pandas.pydata.org/pandas-docs/stable/user_guide/indexing.html#returning-a-view-versus-a-copy\n",
      "  data['priceRange'][data['SalePrice'] >= minPrice + divs * 2] = 2.0 #Caro\n"
     ]
    }
   ],
   "source": [
    "data.fillna(0)\n",
    "minPrice = data['SalePrice'].min()\n",
    "maxPrice = data['SalePrice'].max()\n",
    "divs = (maxPrice - minPrice) / 3\n",
    "data['priceRange'] = data['LotArea']\n",
    "\n",
    "data['priceRange'][data['SalePrice'] < minPrice + divs] = 0.0 #Economico\n",
    "data['priceRange'][data['SalePrice'] >= minPrice + divs] = 1.0 #Precio medio\n",
    "data['priceRange'][data['SalePrice'] >= minPrice + divs * 2] = 2.0 #Caro"
   ]
  },
  {
   "cell_type": "code",
   "execution_count": 8,
   "metadata": {},
   "outputs": [
    {
     "name": "stderr",
     "output_type": "stream",
     "text": [
      "C:\\Users\\laury\\AppData\\Local\\Temp\\ipykernel_20668\\3259654922.py:3: FutureWarning: Passing a negative integer is deprecated in version 1.0 and will not be supported in future version. Instead, use None to not limit the column width.\n",
      "  pd.set_option('display.max_colwidth', -1) # or 199.\n"
     ]
    }
   ],
   "source": [
    "pd.set_option('display.max_columns', None) # or 1000.\n",
    "pd.set_option('display.max_rows', None) # or 1000.\n",
    "pd.set_option('display.max_colwidth', -1) # or 199.\n"
   ]
  },
  {
   "cell_type": "markdown",
   "metadata": {},
   "source": [
    "Tuneo de los datos\n"
   ]
  },
  {
   "cell_type": "code",
   "execution_count": 9,
   "metadata": {},
   "outputs": [],
   "source": [
    "Y = data['priceRange']\n",
    "X = data.drop(['priceRange', 'Id'], axis=1)\n",
    "#rellenamos los datos numericos con un 0\n",
    "X['PoolArea'].fillna(0, inplace=True)\n",
    "X['LotFrontage'].fillna(0, inplace=True)\n",
    "X['MasVnrArea'].fillna(0, inplace=True)\n",
    "#quitamos las columnas que no son numericas ya que afectan los datos\n",
    "X['Alley'].dropna()\n",
    "X['MasVnrType'].dropna()\n",
    "X['BsmtQual'].dropna()\n",
    "X['BsmtCond'].dropna()\n",
    "X['BsmtExposure'].dropna()\n",
    "X['BsmtFinType1'].dropna()\n",
    "X['BsmtFinType2'].dropna()\n",
    "X['Electrical'].dropna()\n",
    "X['FireplaceQu'].dropna()\n",
    "X['GarageType'].dropna()\n",
    "X['GarageYrBlt'].dropna()\n",
    "X['GarageFinish'].dropna()\n",
    "X['GarageQual'].dropna()\n",
    "X['GarageCond'].dropna()\n",
    "X['PoolQC'].dropna()\n",
    "X['Fence'].dropna()\n",
    "X['MiscFeature'].dropna()\n",
    "X_train, X_test, y_train, y_test = train_test_split(X, Y, test_size=0.3, train_size=0.7)"
   ]
  },
  {
   "cell_type": "code",
   "execution_count": 10,
   "metadata": {},
   "outputs": [],
   "source": [
    "Xtrain = X_train.apply(pd.to_numeric, errors='coerce')\n",
    "yTrain = y_train.apply(pd.to_numeric, errors='coerce')\n",
    "Xtrain.fillna(0, inplace=True)\n",
    "yTrain.fillna(0, inplace=True)\n",
    "xtest = X_test.apply(pd.to_numeric, errors='coerce')\n",
    "xtest.fillna(0, inplace=True)\n"
   ]
  },
  {
   "cell_type": "code",
   "execution_count": 11,
   "metadata": {},
   "outputs": [],
   "source": [
    "selector_numericas = selector(dtype_exclude=object)\n",
    "selector_categoricas = selector(dtype_include=object)\n",
    "columnas_numericas = selector_numericas(X)\n",
    "columnas_categoricas = selector_categoricas(X)\n"
   ]
  },
  {
   "cell_type": "code",
   "execution_count": 12,
   "metadata": {},
   "outputs": [],
   "source": [
    "from sklearn.preprocessing import OneHotEncoder\n",
    "preprocesador_cat = OneHotEncoder(handle_unknown='ignore')\n",
    "preprocesador_num = StandardScaler()\n",
    "\n",
    "from sklearn.compose import ColumnTransformer\n",
    "preprocesador = ColumnTransformer([\n",
    "    ('one_hot_encoder',preprocesador_cat,columnas_categoricas),\n",
    "    ('standard_scaler',preprocesador_num,columnas_numericas)\n",
    "])"
   ]
  },
  {
   "cell_type": "markdown",
   "metadata": {},
   "source": [
    "## Primer modelo"
   ]
  },
  {
   "cell_type": "code",
   "execution_count": 13,
   "metadata": {},
   "outputs": [],
   "source": [
    "from sklearn.pipeline import make_pipeline\n",
    "modelo = make_pipeline(preprocesador,MLPClassifier(hidden_layer_sizes=(65,25), max_iter=200))"
   ]
  },
  {
   "cell_type": "markdown",
   "metadata": {},
   "source": [
    "Modelo de redes neuronales"
   ]
  },
  {
   "cell_type": "code",
   "execution_count": null,
   "metadata": {},
   "outputs": [],
   "source": [
    "Xtrain.fillna(0, inplace=True)\n",
    "yTrain.fillna(0, inplace=True)\n",
    "xtest.fillna(0, inplace=True)\n",
    "modelo.fit(Xtrain,y_train)\n",
    "y_pred = modelo.predict(xtest)\n",
    "y_pred"
   ]
  },
  {
   "cell_type": "code",
   "execution_count": 15,
   "metadata": {},
   "outputs": [
    {
     "name": "stdout",
     "output_type": "stream",
     "text": [
      "Matriz de confusión\n",
      " [[395   2   0]\n",
      " [  8  30   0]\n",
      " [  0   0   3]]\n",
      "Accuracy:  0.9771689497716894\n"
     ]
    }
   ],
   "source": [
    "cm = confusion_matrix(y_test,y_pred)\n",
    "accuracy=accuracy_score(y_test,y_pred)\n",
    "precision =precision_score(y_test, y_pred,average='micro')\n",
    "recall =  recall_score(y_test, y_pred,average='micro')\n",
    "f1 = f1_score(y_test,y_pred,average='micro')\n",
    "print('Matriz de confusión\\n',cm)\n",
    "print('Accuracy: ',accuracy)"
   ]
  },
  {
   "cell_type": "markdown",
   "metadata": {},
   "source": [
    "Comparacion de modelos con base en la precision:\n",
    "Naive Bayes = 87% \n",
    "Regresion Logistica = 85%\n",
    "Support Vector machines = 96%\n",
    "Redes Neuronales = 97%"
   ]
  },
  {
   "cell_type": "markdown",
   "metadata": {},
   "source": [
    "# Segundo Modelo"
   ]
  },
  {
   "cell_type": "code",
   "execution_count": 25,
   "metadata": {},
   "outputs": [],
   "source": [
    "from sklearn.pipeline import make_pipeline\n",
    "modelo2 = make_pipeline(preprocesador,MLPClassifier(hidden_layer_sizes=(15,75), max_iter=1000))"
   ]
  },
  {
   "cell_type": "code",
   "execution_count": 26,
   "metadata": {},
   "outputs": [
    {
     "data": {
      "text/plain": [
       "array([0, 0, 0, 0, 0, 0, 0, 0, 0, 0, 0, 0, 1, 0, 0, 0, 0, 0, 0, 0, 0, 0,\n",
       "       0, 0, 0, 0, 0, 0, 1, 0, 1, 0, 0, 0, 0, 0, 0, 0, 0, 0, 0, 0, 0, 0,\n",
       "       0, 0, 0, 0, 0, 0, 0, 0, 0, 0, 0, 0, 0, 1, 1, 0, 0, 0, 0, 0, 0, 0,\n",
       "       0, 0, 0, 0, 0, 0, 0, 0, 0, 0, 0, 0, 0, 0, 0, 0, 0, 0, 0, 0, 0, 0,\n",
       "       0, 0, 0, 0, 0, 0, 0, 0, 0, 0, 0, 0, 0, 0, 0, 0, 0, 0, 0, 0, 0, 0,\n",
       "       0, 0, 0, 0, 0, 1, 0, 1, 0, 0, 0, 0, 2, 0, 0, 0, 0, 0, 0, 0, 0, 0,\n",
       "       0, 0, 0, 1, 0, 0, 0, 0, 0, 0, 0, 0, 0, 0, 1, 0, 0, 0, 0, 0, 0, 0,\n",
       "       0, 0, 0, 0, 0, 0, 0, 0, 0, 0, 0, 0, 0, 0, 0, 1, 0, 0, 1, 0, 1, 0,\n",
       "       0, 1, 0, 0, 0, 0, 0, 0, 0, 1, 0, 1, 0, 0, 0, 0, 0, 0, 0, 0, 0, 0,\n",
       "       0, 0, 0, 0, 0, 0, 0, 0, 0, 0, 1, 1, 0, 0, 0, 0, 0, 0, 0, 0, 0, 0,\n",
       "       0, 0, 0, 0, 0, 1, 0, 0, 0, 0, 0, 0, 0, 0, 0, 0, 0, 0, 0, 1, 1, 0,\n",
       "       0, 0, 0, 1, 1, 0, 0, 0, 0, 0, 0, 0, 0, 0, 0, 0, 1, 2, 0, 0, 0, 0,\n",
       "       2, 0, 0, 0, 0, 0, 0, 0, 0, 0, 0, 0, 0, 0, 0, 0, 0, 0, 0, 0, 0, 0,\n",
       "       0, 1, 0, 1, 0, 0, 1, 0, 0, 0, 0, 0, 0, 1, 0, 0, 0, 0, 0, 0, 0, 1,\n",
       "       0, 0, 0, 0, 1, 0, 0, 0, 0, 0, 0, 0, 0, 0, 1, 0, 0, 0, 1, 0, 0, 0,\n",
       "       0, 0, 0, 0, 0, 0, 0, 0, 0, 0, 0, 0, 0, 0, 0, 1, 0, 0, 0, 0, 0, 0,\n",
       "       0, 0, 0, 1, 0, 0, 1, 0, 0, 0, 0, 0, 0, 2, 0, 0, 0, 0, 0, 0, 0, 0,\n",
       "       0, 0, 0, 0, 0, 0, 0, 1, 0, 0, 0, 0, 0, 0, 0, 0, 0, 0, 0, 0, 0, 0,\n",
       "       0, 0, 0, 0, 0, 1, 0, 0, 0, 0, 0, 0, 0, 0, 0, 0, 0, 0, 0, 0, 0, 0,\n",
       "       0, 0, 0, 1, 0, 0, 0, 0, 1, 0, 0, 0, 0, 0, 0, 0, 0, 0, 0, 1],\n",
       "      dtype=int64)"
      ]
     },
     "execution_count": 26,
     "metadata": {},
     "output_type": "execute_result"
    }
   ],
   "source": [
    "modelo2.fit(Xtrain,y_train)\n",
    "y_pred = modelo2.predict(xtest)\n",
    "y_pred"
   ]
  },
  {
   "cell_type": "code",
   "execution_count": 27,
   "metadata": {},
   "outputs": [
    {
     "name": "stdout",
     "output_type": "stream",
     "text": [
      "Matriz de confusión\n",
      " [[390   7   0]\n",
      " [  5  32   1]\n",
      " [  0   0   3]]\n",
      "Accuracy:  0.9703196347031964\n"
     ]
    }
   ],
   "source": [
    "cm = confusion_matrix(y_test,y_pred)\n",
    "accuracy=accuracy_score(y_test,y_pred)\n",
    "precision =precision_score(y_test, y_pred,average='micro')\n",
    "recall =  recall_score(y_test, y_pred,average='micro')\n",
    "f1 = f1_score(y_test,y_pred,average='micro')\n",
    "print('Matriz de confusión\\n',cm)\n",
    "print('Accuracy: ',accuracy)"
   ]
  },
  {
   "cell_type": "markdown",
   "metadata": {},
   "source": [
    "# Modelos de regresión"
   ]
  },
  {
   "cell_type": "code",
   "execution_count": 37,
   "metadata": {},
   "outputs": [
    {
     "data": {
      "image/png": "[encoded data removed]",
      "text/plain": [
       "<Figure size 432x288 with 1 Axes>"
      ]
     },
     "metadata": {
      "needs_background": "light"
     },
     "output_type": "display_data"
    }
   ],
   "source": [
    "from sklearn.neural_network import MLPRegressor\n",
    "regr = MLPRegressor(random_state=1, max_iter=500).fit(Xtrain, yTrain)\n",
    "pred = regr.predict(xtest)\n",
    "import matplotlib.pyplot as plt\n",
    "plt.scatter(pred, y_test)\n",
    "plt.show()"
   ]
  }
 ],
 "metadata": {
  "kernelspec": {
   "display_name": "Python 3.9.12 64-bit",
   "metadata": {
    "interpreter": {
     "hash": "6cb11118430048aaffde37140829a96b2f2778371a079ecf7cef1d9eee249f62"
    }
   },
   "name": "python3"
  },
  "language_info": {
   "codemirror_mode": {
    "name": "ipython",
    "version": 3
   },
   "file_extension": ".py",
   "mimetype": "text/x-python",
   "name": "python",
   "nbconvert_exporter": "python",
   "pygments_lexer": "ipython3",
   "version": "3.9.12"
  },
  "orig_nbformat": 2
 },
 "nbformat": 4,
 "nbformat_minor": 2
}
