{
 "cells": [
  {
   "cell_type": "code",
   "execution_count": 2,
   "metadata": {},
   "outputs": [
    {
     "name": "stderr",
     "output_type": "stream",
     "text": [
      "C:\\Users\\laury\\AppData\\Local\\Packages\\PythonSoftwareFoundation.Python.3.9_qbz5n2kfra8p0\\LocalCache\\local-packages\\Python39\\site-packages\\statsmodels\\compat\\pandas.py:65: FutureWarning: pandas.Int64Index is deprecated and will be removed from pandas in a future version. Use pandas.Index with the appropriate dtype instead.\n",
      "  from pandas import Int64Index as NumericIndex\n"
     ]
    }
   ],
   "source": [
    "import pandas as pd\n",
    "import seaborn as sns\n",
    "import numpy as np\n",
    "from scipy import stats\n",
    "import statsmodels.stats.diagnostic as diag\n",
    "from sklearn.metrics import confusion_matrix\n",
    "from sklearn.model_selection import train_test_split\n",
    "from sklearn import metrics\n",
    "from sklearn.svm import SVC\n",
    "from sklearn.svm import SVR\n",
    "from sklearn.preprocessing import StandardScaler\n",
    "from sklearn.neural_network import MLPClassifier\n",
    "from sklearn.metrics import accuracy_score ,precision_score,recall_score,f1_score\n",
    "## import pyclustertend \n",
    "import matplotlib.cm as cm\n",
    "np.warnings.filterwarnings('ignore', category=np.VisibleDeprecationWarning) \n",
    "from sklearn.compose import make_column_selector as selector #para separar columnas numéricas de categoricas"
   ]
  },
  {
   "cell_type": "markdown",
   "metadata": {},
   "source": [
    "Análisis de los datos"
   ]
  },
  {
   "cell_type": "code",
   "execution_count": 3,
   "metadata": {},
   "outputs": [],
   "source": [
    "data = pd.read_csv('./train.csv', encoding = \"latin1\")\n",
    "file = open('cuantitativas.txt', 'r')\n",
    "quant= file.read().splitlines()\n",
    "file = open('cualitativas.txt', 'r')\n",
    "quali= file.read().splitlines()"
   ]
  },
  {
   "cell_type": "code",
   "execution_count": 4,
   "metadata": {},
   "outputs": [
    {
     "name": "stdout",
     "output_type": "stream",
     "text": [
      "\u001b[36mKurtosis: 6.536282\n",
      "\u001b[36mAsimetría: 1.882876\n"
     ]
    },
    {
     "data": {
      "text/plain": [
       "count      1460.000000\n",
       "mean     180921.195890\n",
       "std       79442.502883\n",
       "min       34900.000000\n",
       "25%      129975.000000\n",
       "50%      163000.000000\n",
       "75%      214000.000000\n",
       "max      755000.000000\n",
       "Name: SalePrice, dtype: float64"
      ]
     },
     "execution_count": 4,
     "metadata": {},
     "output_type": "execute_result"
    }
   ],
   "source": [
    "# Variables de interes\n",
    "print('\\033[36m' + 'Kurtosis: %f' % data['SalePrice'].kurt())\n",
    "print('\\033[36m' + 'Asimetría: %f' % data['SalePrice'].skew())\n",
    "data['SalePrice'].describe()"
   ]
  },
  {
   "cell_type": "code",
   "execution_count": 5,
   "metadata": {},
   "outputs": [
    {
     "name": "stdout",
     "output_type": "stream",
     "text": [
      "Prueba de Kolmogorov-Smirnov:\n",
      "p=0.000000\n",
      "\n",
      "Prueba de Lilliefors:\n",
      "ks=0.123685\n",
      "p=0.001000\n"
     ]
    }
   ],
   "source": [
    "stat,p = stats.shapiro(data[[\"SalePrice\"]].dropna())\n",
    "print('Prueba de Kolmogorov-Smirnov:\\np=%f\\n'% p)\n",
    "ks_statistic, p_value = diag.lilliefors(data[[\"SalePrice\"]].dropna())\n",
    "print('Prueba de Lilliefors:\\nks=%f\\np=%f'%(ks_statistic,p_value))"
   ]
  },
  {
   "cell_type": "code",
   "execution_count": 6,
   "metadata": {},
   "outputs": [
    {
     "data": {
      "text/plain": [
       "<seaborn.axisgrid.FacetGrid at 0x14be21eb700>"
      ]
     },
     "execution_count": 6,
     "metadata": {},
     "output_type": "execute_result"
    },
    {
     "data": {
      "image/png": "[encoded data removed]",
      "text/plain": [
       "<Figure size 360x360 with 1 Axes>"
      ]
     },
     "metadata": {
      "needs_background": "light"
     },
     "output_type": "display_data"
    }
   ],
   "source": [
    "sns.displot(data['SalePrice'], kde=True)"
   ]
  },
  {
   "cell_type": "code",
   "execution_count": 7,
   "metadata": {},
   "outputs": [
    {
     "name": "stderr",
     "output_type": "stream",
     "text": [
      "C:\\Users\\laury\\AppData\\Local\\Temp\\ipykernel_20668\\618828850.py:7: SettingWithCopyWarning: \n",
      "A value is trying to be set on a copy of a slice from a DataFrame\n",
      "\n",
      "See the caveats in the documentation: https://pandas.pydata.org/pandas-docs/stable/user_guide/indexing.html#returning-a-view-versus-a-copy\n",
      "  data['priceRange'][data['SalePrice'] < minPrice + divs] = 0.0 #Economico\n",
      "C:\\Users\\laury\\AppData\\Local\\Temp\\ipykernel_20668\\618828850.py:8: SettingWithCopyWarning: \n",
      "A value is trying to be set on a copy of a slice from a DataFrame\n",
      "\n",
      "See the caveats in the documentation: https://pandas.pydata.org/pandas-docs/stable/user_guide/indexing.html#returning-a-view-versus-a-copy\n",
      "  data['priceRange'][data['SalePrice'] >= minPrice + divs] = 1.0 #Precio medio\n",
      "C:\\Users\\laury\\AppData\\Local\\Temp\\ipykernel_20668\\618828850.py:9: SettingWithCopyWarning: \n",
      "A value is trying to be set on a copy of a slice from a DataFrame\n",
      "\n",
      "See the caveats in the documentation: https://pandas.pydata.org/pandas-docs/stable/user_guide/indexing.html#returning-a-view-versus-a-copy\n",
      "  data['priceRange'][data['SalePrice'] >= minPrice + divs * 2] = 2.0 #Caro\n"
     ]
    }
   ],
   "source": [
    "data.fillna(0)\n",
    "minPrice = data['SalePrice'].min()\n",
    "maxPrice = data['SalePrice'].max()\n",
    "divs = (maxPrice - minPrice) / 3\n",
    "data['priceRange'] = data['LotArea']\n",
    "\n",
    "data['priceRange'][data['SalePrice'] < minPrice + divs] = 0.0 #Economico\n",
    "data['priceRange'][data['SalePrice'] >= minPrice + divs] = 1.0 #Precio medio\n",
    "data['priceRange'][data['SalePrice'] >= minPrice + divs * 2] = 2.0 #Caro"
   ]
  },
  {
   "cell_type": "code",
   "execution_count": 8,
   "metadata": {},
   "outputs": [
    {
     "name": "stderr",
     "output_type": "stream",
     "text": [
      "C:\\Users\\laury\\AppData\\Local\\Temp\\ipykernel_20668\\3259654922.py:3: FutureWarning: Passing a negative integer is deprecated in version 1.0 and will not be supported in future version. Instead, use None to not limit the column width.\n",
      "  pd.set_option('display.max_colwidth', -1) # or 199.\n"
     ]
    }
   ],
   "source": [
    "pd.set_option('display.max_columns', None) # or 1000.\n",
    "pd.set_option('display.max_rows', None) # or 1000.\n",
    "pd.set_option('display.max_colwidth', -1) # or 199.\n"
   ]
  },
  {
   "cell_type": "markdown",
   "metadata": {},
   "source": [
    "Tuneo de los datos\n"
   ]
  },
  {
   "cell_type": "code",
   "execution_count": 9,
   "metadata": {},
   "outputs": [],
   "source": [
    "Y = data['priceRange']\n",
    "X = data.drop(['priceRange', 'Id'], axis=1)\n",
    "#rellenamos los datos numericos con un 0\n",
    "X['PoolArea'].fillna(0, inplace=True)\n",
    "X['LotFrontage'].fillna(0, inplace=True)\n",
    "X['MasVnrArea'].fillna(0, inplace=True)\n",
    "#quitamos las columnas que no son numericas ya que afectan los datos\n",
    "X['Alley'].dropna()\n",
    "X['MasVnrType'].dropna()\n",
    "X['BsmtQual'].dropna()\n",
    "X['BsmtCond'].dropna()\n",
    "X['BsmtExposure'].dropna()\n",
    "X['BsmtFinType1'].dropna()\n",
    "X['BsmtFinType2'].dropna()\n",
    "X['Electrical'].dropna()\n",
    "X['FireplaceQu'].dropna()\n",
    "X['GarageType'].dropna()\n",
    "X['GarageYrBlt'].dropna()\n",
    "X['GarageFinish'].dropna()\n",
    "X['GarageQual'].dropna()\n",
    "X['GarageCond'].dropna()\n",
    "X['PoolQC'].dropna()\n",
    "X['Fence'].dropna()\n",
    "X['MiscFeature'].dropna()\n",
    "X_train, X_test, y_train, y_test = train_test_split(X, Y, test_size=0.3, train_size=0.7)"
   ]
  },
  {
   "cell_type": "code",
   "execution_count": 10,
   "metadata": {},
   "outputs": [],
   "source": [
    "Xtrain = X_train.apply(pd.to_numeric, errors='coerce')\n",
    "yTrain = y_train.apply(pd.to_numeric, errors='coerce')\n",
    "Xtrain.fillna(0, inplace=True)\n",
    "yTrain.fillna(0, inplace=True)\n",
    "xtest = X_test.apply(pd.to_numeric, errors='coerce')\n",
    "xtest.fillna(0, inplace=True)\n"
   ]
  },
  {
   "cell_type": "code",
   "execution_count": 11,
   "metadata": {},
   "outputs": [],
   "source": [
    "selector_numericas = selector(dtype_exclude=object)\n",
    "selector_categoricas = selector(dtype_include=object)\n",
    "columnas_numericas = selector_numericas(X)\n",
    "columnas_categoricas = selector_categoricas(X)\n"
   ]
  },
  {
   "cell_type": "code",
   "execution_count": 12,
   "metadata": {},
   "outputs": [],
   "source": [
    "from sklearn.preprocessing import OneHotEncoder\n",
    "preprocesador_cat = OneHotEncoder(handle_unknown='ignore')\n",
    "preprocesador_num = StandardScaler()\n",
    "\n",
    "from sklearn.compose import ColumnTransformer\n",
    "preprocesador = ColumnTransformer([\n",
    "    ('one_hot_encoder',preprocesador_cat,columnas_categoricas),\n",
    "    ('standard_scaler',preprocesador_num,columnas_numericas)\n",
    "])"
   ]
  },
  {
   "cell_type": "markdown",
   "metadata": {},
   "source": [
    "## Primer modelo"
   ]
  },
  {
   "cell_type": "code",
   "execution_count": 13,
   "metadata": {},
   "outputs": [],
   "source": [
    "from sklearn.pipeline import make_pipeline\n",
    "modelo = make_pipeline(preprocesador,MLPClassifier(hidden_layer_sizes=(65,25), max_iter=200))"
   ]
  },
  {
   "cell_type": "markdown",
   "metadata": {},
   "source": [
    "Modelo de redes neuronales"
   ]
  },
  {
   "cell_type": "code",
   "execution_count": null,
   "metadata": {},
   "outputs": [],
   "source": [
    "Xtrain.fillna(0, inplace=True)\n",
    "yTrain.fillna(0, inplace=True)\n",
    "xtest.fillna(0, inplace=True)\n",
    "modelo.fit(Xtrain,y_train)\n",
    "y_pred = modelo.predict(xtest)\n",
    "y_pred"
   ]
  },
  {
   "cell_type": "code",
   "execution_count": 15,
   "metadata": {},
   "outputs": [
    {
     "name": "stdout",
     "output_type": "stream",
     "text": [
      "Matriz de confusión\n",
      " [[395   2   0]\n",
      " [  8  30   0]\n",
      " [  0   0   3]]\n",
      "Accuracy:  0.9771689497716894\n"
     ]
    }
   ],
   "source": [
    "cm = confusion_matrix(y_test,y_pred)\n",
    "accuracy=accuracy_score(y_test,y_pred)\n",
    "precision =precision_score(y_test, y_pred,average='micro')\n",
    "recall =  recall_score(y_test, y_pred,average='micro')\n",
    "f1 = f1_score(y_test,y_pred,average='micro')\n",
    "print('Matriz de confusión\\n',cm)\n",
    "print('Accuracy: ',accuracy)"
   ]
  },
  {
   "cell_type": "markdown",
   "metadata": {},
   "source": [
    "Comparacion de modelos con base en la precision:\n",
    "Naive Bayes = 87% \n",
    "Regresion Logistica = 85%\n",
    "Support Vector machines = 96%\n",
    "Redes Neuronales = 97%"
   ]
  },
  {
   "cell_type": "markdown",
   "metadata": {},
   "source": [
    "# Segundo Modelo"
   ]
  },
  {
   "cell_type": "code",
   "execution_count": 25,
   "metadata": {},
   "outputs": [],
   "source": [
    "from sklearn.pipeline import make_pipeline\n",
    "modelo2 = make_pipeline(preprocesador,MLPClassifier(hidden_layer_sizes=(15,75), max_iter=1000))"
   ]
  },
  {
   "cell_type": "code",
   "execution_count": 26,
   "metadata": {},
   "outputs": [
    {
     "data": {
      "text/plain": [
       "array([0, 0, 0, 0, 0, 0, 0, 0, 0, 0, 0, 0, 1, 0, 0, 0, 0, 0, 0, 0, 0, 0,\n",
       "       0, 0, 0, 0, 0, 0, 1, 0, 1, 0, 0, 0, 0, 0, 0, 0, 0, 0, 0, 0, 0, 0,\n",
       "       0, 0, 0, 0, 0, 0, 0, 0, 0, 0, 0, 0, 0, 1, 1, 0, 0, 0, 0, 0, 0, 0,\n",
       "       0, 0, 0, 0, 0, 0, 0, 0, 0, 0, 0, 0, 0, 0, 0, 0, 0, 0, 0, 0, 0, 0,\n",
       "       0, 0, 0, 0, 0, 0, 0, 0, 0, 0, 0, 0, 0, 0, 0, 0, 0, 0, 0, 0, 0, 0,\n",
       "       0, 0, 0, 0, 0, 1, 0, 1, 0, 0, 0, 0, 2, 0, 0, 0, 0, 0, 0, 0, 0, 0,\n",
       "       0, 0, 0, 1, 0, 0, 0, 0, 0, 0, 0, 0, 0, 0, 1, 0, 0, 0, 0, 0, 0, 0,\n",
       "       0, 0, 0, 0, 0, 0, 0, 0, 0, 0, 0, 0, 0, 0, 0, 1, 0, 0, 1, 0, 1, 0,\n",
       "       0, 1, 0, 0, 0, 0, 0, 0, 0, 1, 0, 1, 0, 0, 0, 0, 0, 0, 0, 0, 0, 0,\n",
       "       0, 0, 0, 0, 0, 0, 0, 0, 0, 0, 1, 1, 0, 0, 0, 0, 0, 0, 0, 0, 0, 0,\n",
       "       0, 0, 0, 0, 0, 1, 0, 0, 0, 0, 0, 0, 0, 0, 0, 0, 0, 0, 0, 1, 1, 0,\n",
       "       0, 0, 0, 1, 1, 0, 0, 0, 0, 0, 0, 0, 0, 0, 0, 0, 1, 2, 0, 0, 0, 0,\n",
       "       2, 0, 0, 0, 0, 0, 0, 0, 0, 0, 0, 0, 0, 0, 0, 0, 0, 0, 0, 0, 0, 0,\n",
       "       0, 1, 0, 1, 0, 0, 1, 0, 0, 0, 0, 0, 0, 1, 0, 0, 0, 0, 0, 0, 0, 1,\n",
       "       0, 0, 0, 0, 1, 0, 0, 0, 0, 0, 0, 0, 0, 0, 1, 0, 0, 0, 1, 0, 0, 0,\n",
       "       0, 0, 0, 0, 0, 0, 0, 0, 0, 0, 0, 0, 0, 0, 0, 1, 0, 0, 0, 0, 0, 0,\n",
       "       0, 0, 0, 1, 0, 0, 1, 0, 0, 0, 0, 0, 0, 2, 0, 0, 0, 0, 0, 0, 0, 0,\n",
       "       0, 0, 0, 0, 0, 0, 0, 1, 0, 0, 0, 0, 0, 0, 0, 0, 0, 0, 0, 0, 0, 0,\n",
       "       0, 0, 0, 0, 0, 1, 0, 0, 0, 0, 0, 0, 0, 0, 0, 0, 0, 0, 0, 0, 0, 0,\n",
       "       0, 0, 0, 1, 0, 0, 0, 0, 1, 0, 0, 0, 0, 0, 0, 0, 0, 0, 0, 1],\n",
       "      dtype=int64)"
      ]
     },
     "execution_count": 26,
     "metadata": {},
     "output_type": "execute_result"
    }
   ],
   "source": [
    "modelo2.fit(Xtrain,y_train)\n",
    "y_pred = modelo2.predict(xtest)\n",
    "y_pred"
   ]
  },
  {
   "cell_type": "code",
   "execution_count": 27,
   "metadata": {},
   "outputs": [
    {
     "name": "stdout",
     "output_type": "stream",
     "text": [
      "Matriz de confusión\n",
      " [[390   7   0]\n",
      " [  5  32   1]\n",
      " [  0   0   3]]\n",
      "Accuracy:  0.9703196347031964\n"
     ]
    }
   ],
   "source": [
    "cm = confusion_matrix(y_test,y_pred)\n",
    "accuracy=accuracy_score(y_test,y_pred)\n",
    "precision =precision_score(y_test, y_pred,average='micro')\n",
    "recall =  recall_score(y_test, y_pred,average='micro')\n",
    "f1 = f1_score(y_test,y_pred,average='micro')\n",
    "print('Matriz de confusión\\n',cm)\n",
    "print('Accuracy: ',accuracy)"
   ]
  },
  {
   "cell_type": "markdown",
   "metadata": {},
   "source": [
    "# Modelos de regresión"
   ]
  },
  {
   "cell_type": "code",
   "execution_count": 35,
   "metadata": {},
   "outputs": [
    {
     "data": {
      "text/plain": [
       "array([ 1.38112490e+01,  7.56232076e+00,  8.78391412e+00, -1.49261910e+00,\n",
       "        1.45647757e+01,  1.29370086e+01,  6.29587371e+00,  1.70095161e+00,\n",
       "        1.04759657e+01, -2.56724706e+01, -4.28394093e+00,  1.44514125e+01,\n",
       "       -1.35005273e+01,  1.40381620e+01,  2.21835069e+01,  2.92797410e+00,\n",
       "        8.61256994e+00, -2.02891594e-01, -2.83416646e+00, -1.11386700e+01,\n",
       "        1.73922686e+01,  1.28465553e+01,  2.18443817e+01,  3.17896376e+01,\n",
       "       -2.10419970e+01,  1.52711461e+01,  1.08308388e+01, -1.20921239e+01,\n",
       "       -4.91662379e+00, -1.75203122e+01,  3.36278748e+00,  1.02290600e+01,\n",
       "        2.15029649e+01, -5.18322433e+01, -3.71668857e+00,  1.74701619e+00,\n",
       "       -3.57330857e+00,  6.60445248e+00,  1.43921846e+01,  7.99576779e+00,\n",
       "       -8.26731506e+00,  6.31479784e+00,  1.16461281e+01,  1.98698117e+01,\n",
       "       -1.95603521e+00,  1.59328742e+01, -8.32109735e+00,  4.74962388e+00,\n",
       "        4.73066745e+00, -8.19175874e+00,  1.41598892e+01, -5.19465996e+00,\n",
       "        1.46218092e+01,  1.06562723e+02, -1.23041450e+01,  9.17811707e-01,\n",
       "       -4.94956283e+00, -8.34224284e+00, -3.94590711e-01,  1.49351228e+01,\n",
       "        5.79834051e+00, -7.01404883e+00,  1.64159676e+01,  1.41633101e+01,\n",
       "        1.39315787e+01,  1.52897305e+00,  1.93547597e+01,  6.02768245e+01,\n",
       "        9.28882408e-01,  1.19601054e+01,  1.56960162e+01, -1.17909411e+00,\n",
       "       -8.63440329e+00,  1.08760848e+01, -1.33076505e+01, -4.51420368e+00,\n",
       "        3.65072552e+01, -5.78654033e-01,  2.20171356e+00,  9.87240810e+00,\n",
       "       -3.18705555e+00, -6.83756732e-01,  1.00024158e+01, -2.99614755e+01,\n",
       "       -2.86192875e+01,  8.81993824e+00, -3.52370192e+01, -1.47910433e+01,\n",
       "        9.41451404e+00,  1.18084979e+01,  2.56507070e+00,  1.31509238e+01,\n",
       "        5.66712172e+00, -5.20688243e+00,  1.63126686e+01, -2.68923999e+00,\n",
       "       -2.61245900e+01, -7.13825145e-01, -1.70840446e+01,  1.13178897e+01,\n",
       "        1.49936850e+01, -1.53968873e+01, -4.29239836e+00, -1.52557715e+01,\n",
       "       -3.66006537e+00,  8.71580578e+00, -1.35001449e+01,  6.34402137e+00,\n",
       "        1.16418312e+01,  1.55652199e+01, -4.69440524e+00,  1.25649999e+01,\n",
       "        1.63959190e+01, -5.57723443e+00,  1.55873586e+01,  1.42671514e+01,\n",
       "        2.83063668e+00,  6.65675959e+00,  2.06051783e+01,  1.21477629e+01,\n",
       "       -4.82129376e+00,  2.25114152e+01, -2.34633066e+01,  9.60872317e+00,\n",
       "        1.77241186e+01,  1.30575990e+01, -8.28518076e+00,  1.13418509e+01,\n",
       "        4.36489008e+00,  1.64898715e+01,  1.72455245e+01,  7.78811226e+00,\n",
       "        7.82055823e+00,  1.55579680e+01, -5.57630174e+00, -2.10201538e+00,\n",
       "        1.46182096e+01,  8.94925216e+01,  1.53329030e+01, -1.19893795e+01,\n",
       "        4.51106318e+01, -1.09962771e+01, -5.15395218e+00, -9.45824203e-01,\n",
       "        1.45585171e+01,  9.81353664e-01, -1.71553698e+01,  8.17624127e+00,\n",
       "       -2.13384988e+01,  4.25658238e+01,  2.53919595e+00, -6.48805646e+00,\n",
       "       -1.63801245e+00,  2.09935480e+01, -4.30614889e-01,  1.24179427e+01,\n",
       "        1.45253335e+01, -1.78064094e+01,  8.43046954e-01, -1.44365951e+01,\n",
       "        2.35640707e+01,  4.68232498e+01,  3.32029649e+00,  9.42955987e+00,\n",
       "        1.29156891e+01,  6.82127635e-01,  1.78797296e+02,  1.45138388e+01,\n",
       "        6.41725122e+00, -1.25069729e+01,  9.76500266e+01, -7.32626452e+00,\n",
       "        1.11688056e+01,  5.97546225e+00, -4.13420095e+01,  1.94876544e+01,\n",
       "        1.03725230e+01,  6.80617637e+00,  1.87337302e+01,  1.01703193e+00,\n",
       "        1.92147923e+01,  6.71515353e+00, -1.82807158e+01, -4.55154991e+01,\n",
       "        4.87364816e+00, -2.08269452e+01,  6.67147391e+00,  9.94794391e+00,\n",
       "       -3.15177527e-01,  9.67841059e+00,  1.84237848e+01, -1.56007247e+01,\n",
       "       -4.98961576e+00,  1.54153576e+01, -4.48767114e+01,  8.11525439e-01,\n",
       "        1.14005223e+01, -1.69153774e+01,  1.36427907e+01,  7.93785771e+00,\n",
       "        2.08171182e+01,  8.32019490e+00,  2.20707713e+00, -7.09429044e+00,\n",
       "        1.01383155e+01,  1.08067414e+01,  1.96782851e+01, -6.70274875e+00,\n",
       "       -1.06738231e+01,  2.46009624e+00, -1.05146096e+01,  5.99565302e+00,\n",
       "       -6.04364939e+00,  1.88679013e+00, -8.11090251e-01,  9.91665469e+00,\n",
       "       -4.32206925e+00,  2.01056546e+00,  1.76745068e+01,  1.66234099e+01,\n",
       "        1.39615663e+01, -1.65806194e+01,  1.75013147e+01,  1.40279885e+01,\n",
       "        2.23802582e+01,  2.20437020e+01,  1.00948407e+01, -4.11861279e+00,\n",
       "       -2.57472160e+01,  1.18896363e+01,  4.01518024e+00,  1.09067510e+01,\n",
       "        1.53438751e+00,  1.98302334e+01,  3.82352045e+00,  3.22879975e+00,\n",
       "        1.80314467e+01,  1.48911055e+01,  2.65750583e+01,  8.61682170e+00,\n",
       "        2.27627059e+01,  8.22481616e+00,  1.23983748e+01, -1.18861246e+01,\n",
       "       -2.76726098e+01,  1.55759097e+01,  2.28824847e+01, -2.20722250e+00,\n",
       "       -2.70139217e-01,  8.37557797e+00,  1.55712544e+01,  1.55045755e+01,\n",
       "        1.73876395e+01,  8.22647504e+00,  5.05106501e+00,  1.62570587e+01,\n",
       "        5.14009624e+00,  1.18828209e+01, -3.92971537e+00,  9.48461023e-01,\n",
       "        1.51903613e+01,  1.22975812e+01, -8.08975413e+00,  2.16865865e+01,\n",
       "        3.05649328e+00, -2.69339666e+01, -2.23093561e+00, -1.86395346e+00,\n",
       "        1.40105186e+01,  7.68710004e+00, -5.68894602e+00, -2.03719629e+01,\n",
       "        3.44589165e+00,  1.22257096e+01,  3.95176352e+00, -1.08832156e+01,\n",
       "        1.12157651e+01,  5.97056344e+00, -1.40073673e+01,  1.36269492e+00,\n",
       "       -1.71628354e+01,  1.03835789e+02, -1.49317634e+01,  3.26406783e+00,\n",
       "        6.81559710e+00,  1.56497569e+01, -4.09721871e+00,  5.51443386e-01,\n",
       "        5.72284420e+00, -2.83270738e+01, -1.83610778e+01,  1.34141744e+01,\n",
       "        1.45609835e+01,  3.93104582e+01,  1.81516155e+01, -4.59783382e+00,\n",
       "        7.99584880e+00, -1.81913049e+01,  1.19724705e+01,  1.15131062e+01,\n",
       "        1.41397554e+01,  3.94722414e+01, -6.27665743e+00, -7.55851747e+00,\n",
       "        6.99121740e+00, -1.20264127e+01,  2.37747907e+00, -3.64723135e+01,\n",
       "        8.41804030e+00,  1.23671814e+01,  3.85744947e+01, -3.44904326e+01,\n",
       "        1.21614179e+01,  7.84526627e+00, -8.86600323e+00,  1.41416639e+01,\n",
       "        1.46841274e+00,  1.15202073e+01,  1.09247938e+01,  3.19510779e+00,\n",
       "        1.43032015e+01,  2.07238472e+00,  1.96963388e+01, -2.07290289e+01,\n",
       "        8.12891963e+00, -1.42545607e+01,  1.64277979e+01,  1.44106211e+01,\n",
       "       -5.39138807e+01,  1.11024150e+01,  5.56716310e+01,  8.04657305e+00,\n",
       "       -1.98989267e+01, -4.94174915e+00,  5.36716678e+00, -4.29704521e+00,\n",
       "       -5.70234410e+00, -7.56829629e+00,  3.57408076e+00, -1.15843313e+01,\n",
       "        2.08312299e+00,  1.14071136e+01,  1.16170960e+01, -1.61728984e+01,\n",
       "        1.14786904e+01, -2.01031280e-01,  5.80141171e+00,  1.53815982e+01,\n",
       "        1.04619570e+02, -8.64390414e+00, -3.85730148e+00,  1.22679924e+02,\n",
       "        7.12189014e+00, -1.31091279e+01,  4.42761897e+01, -2.85619934e+01,\n",
       "        3.04716932e+00,  1.72008160e+00,  9.72809654e+00, -2.82063429e+01,\n",
       "       -4.00679044e+00, -5.75187789e+01,  1.17532633e+01, -2.47468335e-01,\n",
       "        2.01309183e+01, -5.09878237e+00, -1.84720389e+01, -5.37822588e+00,\n",
       "        4.75487657e+01,  3.98601921e+01,  1.61006619e+01,  1.42625653e+01,\n",
       "        9.89099578e+00,  6.23497938e+00, -2.10486997e+01,  1.12206394e+01,\n",
       "        5.65817609e+00,  1.51381615e+01,  2.37295702e+00,  9.31716731e+00,\n",
       "       -6.96871039e-01,  1.38504433e+01,  7.31067239e+00,  1.43189101e+01,\n",
       "        1.11278841e+01,  2.10098186e+01,  1.11800896e+01, -1.41388430e+00,\n",
       "       -7.67420236e+00,  1.73048390e+01, -6.78471143e+00,  8.13835834e-02,\n",
       "        3.01467513e+01,  1.71602446e+01, -8.64258198e+00,  9.23993694e+00,\n",
       "       -1.98384071e+01,  5.47418408e+00,  6.34085622e+00,  5.22689213e+00,\n",
       "        1.32881530e+01,  1.32364701e+01,  2.29502282e+02,  3.57240238e+01,\n",
       "       -8.36614960e+00,  2.21914289e-01,  7.96855889e+00, -4.77709074e+01,\n",
       "        1.00850984e+01,  2.20949581e+01,  1.00190389e+01,  3.11440799e+01,\n",
       "       -7.27251345e+00,  1.36656290e+01, -1.66677089e+01,  1.10315549e+01,\n",
       "        9.47935948e+00,  5.34428682e+00,  1.81332824e+01,  1.26590046e+01,\n",
       "       -6.34710804e-01, -7.09159483e+00, -3.33034194e+00, -2.56332417e+01,\n",
       "        2.52877837e+00, -1.36755341e+01,  2.15889022e+01,  1.53935264e+01,\n",
       "        7.31200795e+00,  8.33734893e+00,  1.15083895e+01,  1.16478076e+02,\n",
       "       -5.48619420e+00,  6.30477627e+00, -4.07884633e+01,  3.05054173e+00,\n",
       "        2.07356200e+01,  1.83515824e+01])"
      ]
     },
     "execution_count": 35,
     "metadata": {},
     "output_type": "execute_result"
    }
   ],
   "source": [
    "from sklearn.neural_network import MLPRegressor\n",
    "regr = MLPRegressor(random_state=1, max_iter=500).fit(Xtrain, yTrain)\n",
    "pred = regr.predict(xtest)\n",
    "score = regr.score(xtest, y_test)\n",
    "pred"
   ]
  }
 ],
 "metadata": {
  "kernelspec": {
   "display_name": "Python 3.9.12 64-bit",
   "metadata": {
    "interpreter": {
     "hash": "6cb11118430048aaffde37140829a96b2f2778371a079ecf7cef1d9eee249f62"
    }
   },
   "name": "python3"
  },
  "language_info": {
   "codemirror_mode": {
    "name": "ipython",
    "version": 3
   },
   "file_extension": ".py",
   "mimetype": "text/x-python",
   "name": "python",
   "nbconvert_exporter": "python",
   "pygments_lexer": "ipython3",
   "version": "3.9.12"
  },
  "orig_nbformat": 2
 },
 "nbformat": 4,
 "nbformat_minor": 2
}
